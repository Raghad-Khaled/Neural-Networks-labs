{
 "cells": [
  {
   "cell_type": "markdown",
   "metadata": {},
   "source": [
    "# Classification Methods\n",
    "In this lab, it is required to identify between different hand-drawn shapes; such as rectangles, circles, triangles, ellipses, polygons, etc.\n",
    "\n",
    "We will start our first lab in this course by understanding the main pipeline of any machine learning project:\n",
    "\n",
    "**Important Note:** **Read all the code and fill the required functions in the 'utils' notebook as you go.**"
   ]
  },
  {
   "cell_type": "code",
   "execution_count": 51,
   "metadata": {},
   "outputs": [],
   "source": [
    "#Always make all imports in the first cell of the notebook, run them all once.\n",
    "import cv2\n",
    "import numpy as np\n",
    "import math\n",
    "import glob\n",
    "import matplotlib.pyplot as plt\n",
    "from mpl_toolkits.mplot3d import Axes3D\n",
    "from collections import Counter\n",
    "\n",
    "%matplotlib inline"
   ]
  },
  {
   "attachments": {
    "gg.PNG": {
     "image/png": "[encoded data removed]"
    }
   },
   "cell_type": "markdown",
   "metadata": {},
   "source": [
    "# A Machine Learning (ML) project is divided into many stages:\n",
    "\n",
    "## 1. Gathering Data (Data Acquisition):\n",
    "\n",
    "The first real step of machine learning is gathering data. This step is very important because the **quality and quantity** of data that you gather will directly determine how good your predictive model can be.\n",
    "\n",
    "In this lab, the data we collect will be the images of hand-drawn shapes. These hand-drawn shapes are mainly freely drawn rectangles, circles and triangles. \n",
    "\n",
    "\n",
    "![ex2.PNG](attachment:gg.PNG)"
   ]
  },
  {
   "cell_type": "markdown",
   "metadata": {},
   "source": [
    "We define placeholders for the data as follows: \n",
    "* **x_train:** This represents the images in the training set. \n",
    "* **y_train:** This represents the labels of the images in the training set.  "
   ]
  },
  {
   "cell_type": "code",
   "execution_count": 4,
   "metadata": {},
   "outputs": [],
   "source": [
    "x_train = []\n",
    "y_train = []\n",
    "shapes = ['Rectangle', 'Circle', 'Triangle']"
   ]
  },
  {
   "cell_type": "code",
   "execution_count": 5,
   "metadata": {},
   "outputs": [],
   "source": [
    "## load rectangle images\n",
    "for filename in sorted(glob.glob('images/rectangle/*.png')):\n",
    "    img = cv2.imread(filename) ## cv2.imread reads images in RGB format\n",
    "    x_train.append(img)\n",
    "    y_train.append(0)"
   ]
  },
  {
   "cell_type": "code",
   "execution_count": 6,
   "metadata": {},
   "outputs": [],
   "source": [
    "## load circle images\n",
    "for filename in sorted(glob.glob('images/circle/*.png')):\n",
    "    img = cv2.imread(filename) \n",
    "    x_train.append(img)\n",
    "    y_train.append(1)"
   ]
  },
  {
   "cell_type": "code",
   "execution_count": 7,
   "metadata": {},
   "outputs": [],
   "source": [
    "## load triangle images\n",
    "for filename in sorted(glob.glob('images/triangle/*.png')):\n",
    "    img = cv2.imread(filename)\n",
    "    x_train.append(img)\n",
    "    y_train.append(2)"
   ]
  },
  {
   "cell_type": "code",
   "execution_count": 8,
   "metadata": {},
   "outputs": [
    {
     "name": "stdout",
     "output_type": "stream",
     "text": [
      "The size of the training set is:  (19, 200, 200, 3)\n",
      "The size of the labels of the training set is:  (19,)\n",
      "[0 0 0 0 0 0 0 1 1 1 1 1 1 2 2 2 2 2 2]\n"
     ]
    }
   ],
   "source": [
    "# A good practice is to convert lists into numpy arrays. When it comes to actual machine learning algorithms, \n",
    "# it is better to work with NumPy arrays.\n",
    "x_train = np.asarray(x_train)\n",
    "y_train = np.asarray(y_train)\n",
    "\n",
    "print (\"The size of the training set is: \", x_train.shape)\n",
    "\n",
    "# We have 19 images of hand-drawn shapes, where each image is an RGB image of dimensions 200x200x3. \n",
    "# (images, height, width, channels)\n",
    "\n",
    "print (\"The size of the labels of the training set is: \", y_train.shape)\n",
    "print (y_train)"
   ]
  },
  {
   "cell_type": "markdown",
   "metadata": {},
   "source": [
    "We will now visualize this dataset. \n",
    "\n",
    "**Note: You can run the following cell multiple times to view different shapes in the dataset as well as the ground-truth value associated with this training image.**"
   ]
  },
  {
   "cell_type": "code",
   "execution_count": 10,
   "metadata": {},
   "outputs": [
    {
     "name": "stdout",
     "output_type": "stream",
     "text": [
      "The ground-truth value of this image is:  Circle\n"
     ]
    },
    {
     "data": {
      "image/png": "[encoded data removed]",
      "text/plain": [
       "<Figure size 432x288 with 1 Axes>"
      ]
     },
     "metadata": {
      "needs_background": "light"
     },
     "output_type": "display_data"
    }
   ],
   "source": [
    "# Generate a random index from 0 to 18 inclusive. \n",
    "random_index = np.random.randint(0,18)\n",
    "\n",
    "# Plot the image.\n",
    "plt.imshow(x_train[random_index])\n",
    "plt.axis(\"off\")\n",
    "\n",
    "print(\"The ground-truth value of this image is: \" , shapes[(y_train[random_index])])"
   ]
  },
  {
   "cell_type": "markdown",
   "metadata": {},
   "source": [
    "- - -\n",
    "# 2. Data Preprocessing:\n",
    "\n",
    "The second stage is to convert the raw data into a clean data set. In other words, whenever the data is gathered from different sources it is collected in raw format which is not feasible for the analysis. We need to prepare it to be suitable for our problem.\n",
    "\n",
    "In this step, we will apply preprocessing to the images in **x_train** as follows: \n",
    "   1. Convert RGB images to grayscale images. Use the function **cv2.cvtColor** \n",
    "   2. Remove noise in images by blurring (averaging). Use the function **cv2.blur**\n",
    "   3. Applying a binary threshold on the image pixels. Use the function **cv2.threshold**. The pixels having intensity less than this threshold should be considered black pixels, and white otherwise. "
   ]
  },
  {
   "cell_type": "code",
   "execution_count": 11,
   "metadata": {},
   "outputs": [],
   "source": [
    "def preprocess(img):\n",
    "    # Preprocess the given image img.\n",
    "    \n",
    "    #-----------------------------------------------------------------------------------------------\n",
    "    # TODO 1: Convert the image to grayscale (~1 line)\n",
    "    # Hint: Check the function cv2.cvtColor in opencv.\n",
    "    gray = cv2.cvtColor(img, cv2.COLOR_BGR2GRAY)\n",
    "    #-----------------------------------------------------------------------------------------------\n",
    "    \n",
    "    #-----------------------------------------------------------------------------------------------\n",
    "    # TODO 2: Blur the image to remove any noise in the image. (~1 line)\n",
    "    # Hint: Check the function cv2.blur in opencv.\n",
    "    # Hint: Pass the kernel size as an array (3, 3)\n",
    "    blur = cv2.blur(gray, (3, 3))   # blur the image to remove the noise\n",
    "    #-----------------------------------------------------------------------------------------------\n",
    "    \n",
    "    #-----------------------------------------------------------------------------------------------\n",
    "    # TODO 3: Convert the grayscale image to a binary image. Apply a threshold between 50 and 255 on the blurred image.\n",
    "    #       The pixels having values less than 50 will be considered 0, and 255 otherwise. (~1 line)\n",
    "    # Hint: Check the function cv2.threshold in opencv.\n",
    "    # Hint: Use the type cv2.THRESH_BINARY with the type parameter.\n",
    "    # Hint: This function has two return parameters. You can ignore the first one, and the second is the binary image.\n",
    "    # Example: _, thresholded_img = cv2.threshold(....)    \n",
    "    _, thresholded_img = cv2.threshold(blur, 50, 255, cv2.THRESH_BINARY)\n",
    "    #-----------------------------------------------------------------------------------------------\n",
    "    return thresholded_img"
   ]
  },
  {
   "cell_type": "code",
   "execution_count": 12,
   "metadata": {},
   "outputs": [],
   "source": [
    "# This code is to test your implementation.\n",
    "######## DO NOT CHANGE THIS CODE ########\n",
    "img = preprocess(cv2.imread('images/rectangle/rec1.png'))\n",
    "assert np.all((img==255) | (img==0)), \\\n",
    "    'Preprocessing is incomplete: the resulting final image should be all 0 or 255'\n",
    "assert len(img.shape)==2, \\\n",
    "    'Preprocessing is incomplete: the resulting final image should be 2D'"
   ]
  },
  {
   "cell_type": "code",
   "execution_count": 13,
   "metadata": {},
   "outputs": [],
   "source": [
    "# We will apply the function you implemented for each image in the training set (x_train) \n",
    "# and add the pre-processed images to a new list (x_train_preprocessed.)\n",
    "x_train_preprocessed = []\n",
    "\n",
    "for i in range(x_train.shape[0]):\n",
    "    preprocessed_img = preprocess(x_train[i])\n",
    "    x_train_preprocessed.append(preprocessed_img)\n",
    "\n",
    "# Question 1: Should we do anything for y_train? \n",
    "# no because they are labels and doesn't differ in preprocessing"
   ]
  },
  {
   "cell_type": "code",
   "execution_count": 14,
   "metadata": {},
   "outputs": [
    {
     "name": "stdout",
     "output_type": "stream",
     "text": [
      "The size of the training set is:  (19, 200, 200)\n"
     ]
    }
   ],
   "source": [
    "# Let's inspect what happened after preprocessing \n",
    "\n",
    "#-----------------------------------------------------------------------------------------------\n",
    "# TODO 4: Convert x_train_preprocessed into numpy array. \n",
    "x_train_preprocessed = np.asarray(x_train_preprocessed)\n",
    "#-----------------------------------------------------------------------------------------------\n",
    "\n",
    "#-----------------------------------------------------------------------------------------------\n",
    "# TODO 5: Print the shape of the new preprocessed training set\n",
    "shape = x_train_preprocessed.shape \n",
    "print (\"The size of the training set is: \", shape)\n",
    "#-----------------------------------------------------------------------------------------------\n",
    "\n",
    "\n",
    "# Question 2: What has changed after pre-processing?\n",
    "# 2D instead of 3D, binary img"
   ]
  },
  {
   "cell_type": "code",
   "execution_count": 15,
   "metadata": {},
   "outputs": [
    {
     "data": {
      "image/png": "[encoded data removed]",
      "text/plain": [
       "<Figure size 432x288 with 1 Axes>"
      ]
     },
     "metadata": {
      "needs_background": "light"
     },
     "output_type": "display_data"
    },
    {
     "data": {
      "image/png": "[encoded data removed]",
      "text/plain": [
       "<Figure size 432x288 with 1 Axes>"
      ]
     },
     "metadata": {
      "needs_background": "light"
     },
     "output_type": "display_data"
    }
   ],
   "source": [
    "# Let's visualize what happened after preprocessing \n",
    "\n",
    "# Generate a random index from 0 to 18 inclusive. \n",
    "random_index = np.random.randint(0,18)\n",
    "\n",
    "# Plot the image before preprocessing.\n",
    "plt.imshow(x_train[random_index])\n",
    "plt.axis(\"off\")\n",
    "plt.title(\"Before Preprocessing\")\n",
    "plt.show()\n",
    "\n",
    "# Plot the image after preprocessing.\n",
    "plt.imshow(x_train_preprocessed[random_index])\n",
    "plt.axis(\"off\")\n",
    "plt.title(\"After Preprocessing\")\n",
    "plt.show()\n"
   ]
  },
  {
   "cell_type": "code",
   "execution_count": 16,
   "metadata": {},
   "outputs": [],
   "source": [
    "# We do not need the original x_train anymore. We will work on x_train_preprocessed from now on. \n",
    "x_train = x_train_preprocessed"
   ]
  },
  {
   "attachments": {
    "al.PNG": {
     "image/png": "[encoded data removed]"
    }
   },
   "cell_type": "markdown",
   "metadata": {},
   "source": [
    "- - -\n",
    "# 3. Feature Extraction: \n",
    "\n",
    "Now that we have clean and preprocessed data, we can use it to solve our classification problem.\n",
    "\n",
    "This step could be either:\n",
    "    \n",
    "* **Feature Engineering:** transformation of raw data into features suitable for modeling.\n",
    "\n",
    "* **Feature Transformation:** transformation of data to improve the accuracy of the algorithm.\n",
    "\n",
    "* **Feature Selection:** removing unnecessary features.\n",
    "    \n",
    "The process of feature extraction in our problem can have many designs:\n",
    "\n",
    "* One design is to extract the number of black pixels compared to the number of white pixels in each image and use this feature to differentiate between different shapes. (Is this a powerful feature?) Can you think of other features?\n",
    "\n",
    "\n",
    "A more powerful set of features can be obtained by computing the convex hull of these shapes, and compare the area of this convex hull with the minimum enclosing circle, minimum enclosing rectangle and minimum enclosing triangle bounding that figure.\n",
    "\n",
    "![al.PNG](attachment:al.PNG)\n",
    "\n",
    "In the example above, the ratio between the areas of the convex hull (traingular figure) to the area of the bounding triangle will be maximum, and relatively smaller for the bounding rectangle and circle respectively. \n",
    "\n",
    "On the other hand, if the given shape was a circle, then the ratio between the areas of the shape to the bounding circle will be maximum and smaller for the bounding rectangle and triangle. \n",
    "\n",
    "Therefore, each image will be represented with a feature vector in three dimensions **(x, y and z)** where each component represents the ratio between the area of the figure to the area of the bounding rectangle, circle and triangle respectively.\n",
    "\n",
    "**The images in the example above can be represented as a feature vector (0.67, 0.58, 0.92)**\n",
    "\n",
    "We will now implement all functions needed for feature extraction."
   ]
  },
  {
   "cell_type": "code",
   "execution_count": 17,
   "metadata": {},
   "outputs": [],
   "source": [
    "def findContourArea(img):\n",
    "    \n",
    "    \n",
    "    # This function finds the contours of a given image (img) and returns it in the variable contours\n",
    "    # as well as the area of the enclosed shape.\n",
    "    contours, _ = cv2.findContours(img, cv2.RETR_TREE, cv2.CHAIN_APPROX_SIMPLE)\n",
    "        \n",
    "    # Contours can be explained simply as a curve joining all the continuous points (along the boundary),\n",
    "    # having same color or intensity. \n",
    "    # The contours are a useful tool for shape analysis and object detection and recognition.\n",
    "\n",
    "    # NOTE: This function will not work correctly unless you preprocess the image properly as indicated.\n",
    "    \n",
    "    # The function findContours returns an array of contours and their hierarchy,\n",
    "    # Contours is a Python list of all the contours in the image. Each individual contour is a Numpy array \n",
    "    # of (x,y) coordinates of boundary points of the object.\n",
    "    # The list is sorted in terms of hierarchy, this means the outmost contour is in contours[0], \n",
    "    # and the second outermost contour is contours[1] and so on.\n",
    "    \n",
    "    #------------------------------------------------------------------------------------------------------\n",
    "    # TODO 6 : Find the contour area of the given image (img) (~1 line)\n",
    "    # Hint #1: Check the function cv2.contourArea in opencv.\n",
    "    # Hint #2: Think which contour should be passed as argument to the function (which contour we should calculate its area)\n",
    "    \n",
    "    contour=contours[1]\n",
    "    area = cv2.contourArea(contour)\n",
    "    #------------------------------------------------------------------------------------------------------    \n",
    "    return area, contours\n",
    "\n",
    "# findContourArea(x_train[0])"
   ]
  },
  {
   "cell_type": "code",
   "execution_count": 18,
   "metadata": {},
   "outputs": [],
   "source": [
    "def findBoundingRectangleArea(img, contours):\n",
    "    \n",
    "    # This function tries to fit the minimum bounding rectangle for the given contours.\n",
    "    #------------------------------------------------------------------------------------------------------    \n",
    "    # TODO 7 : Find the minimum bounding rectangle that can fit the given contours. (~1 line)\n",
    "    # Hint : Check the function cv2.boundingRect in opencv\n",
    "    \n",
    "    contour=contours[1]     \n",
    "    x,y,w,h = cv2.boundingRect(contour)\n",
    "    #------------------------------------------------------------------------------------------------------    \n",
    "    # TODO 8 : Find the area of the bounding rectangle (~1 line)\n",
    "    \n",
    "    area = w*h\n",
    "#     print(x,y,w,h)\n",
    "    \n",
    "    #------------------------------------------------------------------------------------------------------\n",
    "    \n",
    "    bounding_rectangle = cv2.rectangle(cv2.cvtColor(img, cv2.COLOR_GRAY2RGB), (x, y), (x + w, y + h), (0, 255, 0), 2)\n",
    "    return area, bounding_rectangle\n",
    "\n",
    "# findBoundingRectangleArea(x_train[0], findContourArea(x_train[0])[1])"
   ]
  },
  {
   "cell_type": "code",
   "execution_count": 19,
   "metadata": {},
   "outputs": [],
   "source": [
    "def findBoundingCircleArea(img, contours):\n",
    "    \n",
    "    # This function tries to fit the minimum bounding circle for the given contours.\n",
    "    # ------------------------------------------------------------------------------------------------------ \n",
    "    # TODO 9 : Find the minimum enclosing circle that can fit the given contours. (~1 line)\n",
    "    # Hint : Check the function cv2.minEnclosingCircle in opencv\n",
    "    # Hint: the radius and the center returned from the minEnclosingCircle should be cast to integer \n",
    "\n",
    "    contour=contours[1] \n",
    "    center, radius = cv2.minEnclosingCircle(contour)\n",
    "\n",
    "    center =(int(center[0]), int(center[1]))\n",
    "    radius =int(radius)\n",
    "    # ------------------------------------------------------------------------------------------------------ \n",
    "    \n",
    "    # ------------------------------------------------------------------------------------------------------    \n",
    "    # TODO 10 : Find the area of the bounding rectangle (~1 line)\n",
    "    \n",
    "    area = math.pi* (int( radius)**2)\n",
    "\n",
    "    # ------------------------------------------------------------------------------------------------------\n",
    "\n",
    "    bounding_circle = cv2.circle(cv2.cvtColor(img, cv2.COLOR_GRAY2RGB), center, radius, (0, 255, 0), 2)\n",
    "    return area, bounding_circle"
   ]
  },
  {
   "cell_type": "code",
   "execution_count": 20,
   "metadata": {},
   "outputs": [
    {
     "data": {
      "text/plain": [
       "(25933.49853515625, array([[[255, 255, 255],\n",
       "         [255, 255, 255],\n",
       "         [255, 255, 255],\n",
       "         ...,\n",
       "         [255, 255, 255],\n",
       "         [255, 255, 255],\n",
       "         [255, 255, 255]],\n",
       " \n",
       "        [[255, 255, 255],\n",
       "         [255, 255, 255],\n",
       "         [255, 255, 255],\n",
       "         ...,\n",
       "         [255, 255, 255],\n",
       "         [255, 255, 255],\n",
       "         [255, 255, 255]],\n",
       " \n",
       "        [[255, 255, 255],\n",
       "         [255, 255, 255],\n",
       "         [255, 255, 255],\n",
       "         ...,\n",
       "         [255, 255, 255],\n",
       "         [255, 255, 255],\n",
       "         [255, 255, 255]],\n",
       " \n",
       "        ...,\n",
       " \n",
       "        [[255, 255, 255],\n",
       "         [255, 255, 255],\n",
       "         [255, 255, 255],\n",
       "         ...,\n",
       "         [255, 255, 255],\n",
       "         [255, 255, 255],\n",
       "         [255, 255, 255]],\n",
       " \n",
       "        [[255, 255, 255],\n",
       "         [255, 255, 255],\n",
       "         [255, 255, 255],\n",
       "         ...,\n",
       "         [255, 255, 255],\n",
       "         [255, 255, 255],\n",
       "         [255, 255, 255]],\n",
       " \n",
       "        [[255, 255, 255],\n",
       "         [255, 255, 255],\n",
       "         [255, 255, 255],\n",
       "         ...,\n",
       "         [255, 255, 255],\n",
       "         [255, 255, 255],\n",
       "         [255, 255, 255]]], dtype=uint8))"
      ]
     },
     "execution_count": 20,
     "metadata": {},
     "output_type": "execute_result"
    }
   ],
   "source": [
    "def findBoundingTriangleArea(img, contours):\n",
    "    # This function tries to fit the minimum bounding triangle for the given contours.\n",
    "\n",
    "    # ------------------------------------------------------------------------------------------------------\n",
    "    # TODO 11 : Find the minimum enclosing triangle that can fit the given contours (~ 1 line)\n",
    "    # Hint : Check the function cv2.minEnclosingTriangle in opencv and place its output in the variable x\n",
    "\n",
    "    contour=contours[1] \n",
    "    x = cv2.minEnclosingTriangle(contour)\n",
    "    # ------------------------------------------------------------------------------------------------------\n",
    "    \n",
    "    area = x[0]\n",
    "    \n",
    "    bounding_triangle = cv2.polylines(cv2.cvtColor(img, cv2.COLOR_GRAY2RGB), np.int32([x[1]]), True, (0, 255, 0), 2)\n",
    "    return area, bounding_triangle\n",
    "\n",
    "findBoundingTriangleArea(x_train[0], findContourArea(x_train[0])[1])"
   ]
  },
  {
   "cell_type": "code",
   "execution_count": 22,
   "metadata": {},
   "outputs": [
    {
     "data": {
      "image/png": "[encoded data removed]",
      "text/plain": [
       "<Figure size 432x288 with 1 Axes>"
      ]
     },
     "metadata": {
      "needs_background": "light"
     },
     "output_type": "display_data"
    },
    {
     "data": {
      "image/png": "[encoded data removed]",
      "text/plain": [
       "<Figure size 432x288 with 1 Axes>"
      ]
     },
     "metadata": {
      "needs_background": "light"
     },
     "output_type": "display_data"
    },
    {
     "data": {
      "image/png": "[encoded data removed]",
      "text/plain": [
       "<Figure size 432x288 with 1 Axes>"
      ]
     },
     "metadata": {
      "needs_background": "light"
     },
     "output_type": "display_data"
    }
   ],
   "source": [
    "### This code is to test your implementation. \n",
    "######## DO NOT CHANGE THIS CODE ########\n",
    "img = cv2.imread('images/rectangle/rec1.png')\n",
    "thresholded_img = preprocess(img) ### assuming this function is behaving correctly\n",
    "img_area, img_contours = findContourArea(thresholded_img)\n",
    "rect_area, bounding_rectangle = findBoundingRectangleArea(thresholded_img, img_contours)\n",
    "circ_area, bounding_circle = findBoundingCircleArea(thresholded_img, img_contours)\n",
    "tri_area, bounding_triangle = findBoundingTriangleArea(thresholded_img, img_contours)\n",
    "\n",
    "assert round(img_area, 2)==14150.5,\\\n",
    "    f'findContourArea() is incorrect, expected {14150.5} found {img_area}'\n",
    "assert round(rect_area, 2)==16120.0, \\\n",
    "    f'findBoundingRectangleArea() is incorrect, expected {16120.0} found {rect_area}'\n",
    "assert round(circ_area, 2)==23235.22, \\\n",
    "    f'findBoundingCircleArea() is incorrect, expected {23235.22} found {circ_area}'\n",
    "assert round(tri_area,2)==25933.5, \\\n",
    "    f'findBoundingTriangleArea() is incorrect, expected {25933.5} found {tri_area}'\n",
    "\n",
    "plt.figure()\n",
    "plt.imshow(bounding_rectangle)\n",
    "plt.title('Adding a rectangular boundary')\n",
    "plt.show()\n",
    "\n",
    "plt.figure()\n",
    "plt.imshow(bounding_circle)\n",
    "plt.title('Adding a circular boundary')\n",
    "plt.show()\n",
    "\n",
    "plt.figure()\n",
    "plt.imshow(bounding_triangle)\n",
    "plt.title('Adding a triangular boundary')\n",
    "plt.show()\n"
   ]
  },
  {
   "cell_type": "code",
   "execution_count": 23,
   "metadata": {},
   "outputs": [],
   "source": [
    "def extract_features(img):\n",
    " # Given an image img, extract the following features.\n",
    "    # 1. The ratio between the figure area and the minimum enclosing rectangle.\n",
    "    # 2. The ratio between the figure area and the minimum enclosing circle.\n",
    "    # 3. The ratio between the figure area and the minimum enclosing triangle.\n",
    "\n",
    "    area, contours = findContourArea(img)\n",
    "    area1, _ = findBoundingRectangleArea(img, contours)\n",
    "    area2, _ = findBoundingCircleArea(img, contours)\n",
    "    area3, _ = findBoundingTriangleArea(img, contours)\n",
    "\n",
    "    features = []\n",
    "    # ------------------------------------------------------------------------------------------------------\n",
    "    # TODO 11 : Extract the features for img and append them in features (1~3 lines).\n",
    "    features.append(area/area1)\n",
    "    features.append(area/area2)\n",
    "    features.append(area/area3)\n",
    "    # ------------------------------------------------------------------------------------------------------\n",
    "    return features"
   ]
  },
  {
   "cell_type": "code",
   "execution_count": 24,
   "metadata": {},
   "outputs": [],
   "source": [
    "### This code is to test your implementation. \n",
    "######## DO NOT CHANGE THIS CODE ########\n",
    "expected_features = np.array([0.88, 0.61, 0.55])\n",
    "results = np.array(extract_features(thresholded_img))\n",
    "results = np.round(results, 2)\n",
    "assert np.all(results == expected_features), f'extract_features() is incorrect'"
   ]
  },
  {
   "cell_type": "code",
   "execution_count": 25,
   "metadata": {},
   "outputs": [],
   "source": [
    "# We have 19 training images. We want to represent each image using a feature vector of three dimensions.\n",
    "# ------------------------------------------------------------------------------------------------------\n",
    "# TODO 12 : Create a matrix of zeros to accomodate the training features for all images in the training set (~1 line)\n",
    "# What should the dimensions of training_features be?\n",
    "training_features = np.zeros((19,3))\n",
    "\n",
    "\n",
    "# features_rect=training_features[:,2:]\n",
    "# print(features_rect)\n",
    "\n",
    "\n",
    "#for index,img in enumerate(x_train):\n",
    "#    training_features[index]= extract_features(img)\n",
    "#     index+=1\n",
    "\n",
    "# ------------------------------------------------------------------------------------------------------"
   ]
  },
  {
   "cell_type": "markdown",
   "metadata": {},
   "source": [
    "We finally populate the array **training_features** with the extracted features from each image using the functions you implemented earlier. "
   ]
  },
  {
   "cell_type": "code",
   "execution_count": 26,
   "metadata": {},
   "outputs": [],
   "source": [
    "for i in range(training_features.shape[0]):\n",
    "    training_features[i] = extract_features(x_train[i])"
   ]
  },
  {
   "cell_type": "markdown",
   "metadata": {},
   "source": [
    "## Visualize the Features\n",
    "A very useful step here is to visualize your features, see how they separate different classes from one another, and how they group data points from the same class closer together."
   ]
  },
  {
   "cell_type": "code",
   "execution_count": 27,
   "metadata": {},
   "outputs": [
    {
     "name": "stdout",
     "output_type": "stream",
     "text": [
      "[[0.87782258 0.60901082 0.54564562]\n",
      " [0.88305861 0.70175177 0.57217283]\n",
      " [0.92832803 0.67188706 0.55646838]\n",
      " [0.84724309 0.62154745 0.53984113]\n",
      " [0.70158994 0.4447463  0.48000871]\n",
      " [0.92776596 0.59013191 0.54542357]\n",
      " [0.78400174 0.61923237 0.64351574]]\n"
     ]
    },
    {
     "data": {
      "image/png": "[encoded data removed]",
      "text/plain": [
       "<Figure size 432x288 with 1 Axes>"
      ]
     },
     "metadata": {
      "needs_background": "light"
     },
     "output_type": "display_data"
    }
   ],
   "source": [
    "# ------------------------------------------------------------------------------------------------------\n",
    "# TODO 13 : Do a masking operation on training_features to retrieve features_rect, features_circle, features_tri\n",
    "features_rect = training_features[y_train==0]\n",
    "features_circle =  training_features[y_train==1]\n",
    "features_tri = training_features[y_train==2]\n",
    "\n",
    "print(features_rect) \n",
    "\n",
    "# ------------------------------------------------------------------------------------------------------\n",
    "\n",
    "fig = plt.figure()\n",
    "ax = fig.add_subplot('111', projection='3d')\n",
    "\n",
    "# ------------------------------------------------------------------------------------------------------\n",
    "ax.scatter(features_rect[:,0],features_rect[:,1], features_rect[:,2], color=\"red\", label = \"Rectangle\")\n",
    "\n",
    "# ------------------------------------------------------------------------------------------------------\n",
    "ax.scatter(features_circle[:,0],features_circle[:,1], features_circle[:,2], color=\"green\", label = \"Circle\")\n",
    "\n",
    "# ------------------------------------------------------------------------------------------------------\n",
    "ax.scatter(features_tri[:,0],features_tri[:,1], features_tri[:,2], color=\"blue\", label = \"Triangle\")\n",
    "\n",
    "\n",
    "# ------------------------------------------------------------------------------------------------------\n",
    "\n",
    "ax.set_title('Training Data')\n",
    "ax.set_xlabel('Shape/Rec.')\n",
    "ax.set_ylabel('Shape/Circle')\n",
    "ax.set_zlabel('Shape/Tri')\n",
    "\n",
    "handles, labels = ax.get_legend_handles_labels()\n",
    "unique = list(set(labels))\n",
    "handles = [handles[labels.index(u)] for u in unique]\n",
    "labels = [labels[labels.index(u)] for u in unique]\n",
    "\n",
    "ax.legend(handles, labels)\n",
    "\n",
    "plt.show()"
   ]
  },
  {
   "cell_type": "markdown",
   "metadata": {},
   "source": [
    "- - -\n",
    "# 4. ML Model: \n",
    "It’s time to feed the crafted features to the classification algorithm that is going to classify or predict the class of unknown or newly unseen data (called testing data). The process of choosing which classification algorithm will yield the best results is not an easy one. It is often subject to many iterations of tuning parameters and features.\n",
    "\n",
    "In this lab, we will apply three classification algorithms and compare their results:\n",
    "1. **Minimum Distance Classifier.**\n",
    "2. **Nearest Neighbour Classifier.**\n",
    "3. **K-Nearest Neighbour Classifier.**\n"
   ]
  },
  {
   "cell_type": "code",
   "execution_count": 128,
   "metadata": {},
   "outputs": [],
   "source": [
    "def calculateDistance(x1, x2):\n",
    "    # TODO 14 : Calculate the Euclidean distance between the two vectors x1 and x2. (~ 1 line)\n",
    "    # Hint: Check the functions in np.linalg \n",
    "    distance = np.sqrt(   np.sum(    (x1-x2)**2    )   )\n",
    "    return distance\n",
    "\n",
    "#calculateDistance( np.asarray([1,1,1]), np.asarray([5,5,4]))"
   ]
  },
  {
   "cell_type": "code",
   "execution_count": 153,
   "metadata": {},
   "outputs": [],
   "source": [
    "def MinimumDistanceClassifier(test_point, training_features, labels):\n",
    "    # ------------------------------------------------------------------------------------------------------\n",
    "    # TODO 15: Implement the Minumum Distance Classifier.\n",
    "    # INPUTS:   test_point: (1, N) where n is the number of features. \n",
    "    #           training_features: (M, N) array where M is the training set size, and N is the number of features.\n",
    "    \n",
    "    # OUTPUTS:  classification: an integer indicating the classification of the test point\n",
    "    #                           either 0 (Rectangle), 1 (Circle), or 2 (Triangle)\n",
    "    \n",
    "    uniquelabel =np.unique(labels)\n",
    "    #print(uniquelabel)\n",
    "    center_class=[]\n",
    "    for i in uniquelabel:\n",
    "        center_class.append(np.average(training_features[labels==i],axis=0))\n",
    "        \n",
    "    \n",
    "#     features_rect = training_features[labels==0]\n",
    "#     features_circle =  training_features[labels==1]\n",
    "#     features_tri = training_features[labels==2]\n",
    "    \n",
    "#     #print(features_rect)\n",
    "    \n",
    "#     center_class=[]\n",
    "#     center_class.append(np.average(features_rect,axis=0))\n",
    "#     center_class.append(np.average(features_circle,axis=0))\n",
    "#     center_class.append(np.average(features_tri,axis=0))\n",
    "    \n",
    "    #print(center_class)\n",
    "    #print(test_point)\n",
    "    \n",
    "    \n",
    "    distances=[calculateDistance(test_point,center_class[i]) for i in range(len(center_class))]\n",
    "    \n",
    "    #print(distances)\n",
    "    \n",
    "    minDist_index=np.argsort(distances)[0]\n",
    "    #print(minDist_index)\n",
    "    #print(labels[minDist_index])\n",
    "    classification = uniquelabel[minDist_index]\n",
    "    # ------------------------------------------------------------------------------------------------------\n",
    "    \n",
    "    return classification"
   ]
  },
  {
   "cell_type": "code",
   "execution_count": 154,
   "metadata": {},
   "outputs": [],
   "source": [
    "def NearestNeighbor(test_point, training_features, labels):\n",
    "    # ------------------------------------------------------------------------------------------------------\n",
    "    # TODO 16 : Implement the Nearest Neighbour Classifier.\n",
    "    # INPUTS:   test_point: (1, N) where N is the number of features. \n",
    "    #           training_features: (M, N) array where M is the training set size, and N is the number of features.\n",
    "    \n",
    "    # OUTPUTS:  classification: an integer indicating the classification of the test point\n",
    "    #                           either 0 (Rectangle), 1 (Circle), or 2 (Triangle)\n",
    "    \n",
    "    distances=[calculateDistance(test_point,training_features[i]) for i in range(len(training_features))]\n",
    "    \n",
    "    minDist_index=np.argsort(distances)[0]\n",
    "    \n",
    "    classification = labels[minDist_index]\n",
    "    # ------------------------------------------------------------------------------------------------------\n",
    "\n",
    "    return classification"
   ]
  },
  {
   "cell_type": "code",
   "execution_count": 155,
   "metadata": {},
   "outputs": [],
   "source": [
    "def KNN(test_point, training_features, labels, k):\n",
    "    # ------------------------------------------------------------------------------------------------------\n",
    "    # TODO 17 : Implement the K-Nearest Neighbour Classifier.\n",
    "    # INPUTS:   test_point: (1, N) where N is the number of features. \n",
    "    #           training_features: (M, N) array where M is the training set size, and N is the number of features.\n",
    "    #           k: the number of nearest neighbours. \n",
    "    \n",
    "    # OUTPUTS:  classification: an integer indicating the classification of the test point\n",
    "    #                           either 0 (Rectangle), 1 (Circle), or 2 (Triangle)    \n",
    "    \n",
    "    distances=[calculateDistance(test_point,training_features[i]) for i in range(len(training_features))]\n",
    "    \n",
    "    \n",
    "    minDist_index=np.argsort(distances)[:k]\n",
    "    \n",
    "    klabels=[labels[i] for i in minDist_index]\n",
    "    \n",
    "    \n",
    "    label,freq=Counter(klabels).most_common(1)[0]\n",
    "\n",
    "    classification = label\n",
    "    \n",
    "    # ------------------------------------------------------------------------------------------------------\n",
    "    return classification"
   ]
  },
  {
   "cell_type": "markdown",
   "metadata": {},
   "source": [
    "- - -\n",
    "# 5. Performance Results: \n",
    "After training the classifier with the training data, it’s time to test its accuracy against testing data (i.e. data that is unseen or new for the classification algorithm). The accuracy is reported as the percentage of the number of instances that were correctly classified to the total number of instances."
   ]
  },
  {
   "cell_type": "code",
   "execution_count": 156,
   "metadata": {},
   "outputs": [
    {
     "data": {
      "image/png": "[encoded data removed]",
      "text/plain": [
       "<Figure size 432x288 with 1 Axes>"
      ]
     },
     "metadata": {
      "needs_background": "light"
     },
     "output_type": "display_data"
    },
    {
     "name": "stdout",
     "output_type": "stream",
     "text": [
      "Actual class : Triangle\n",
      "---------------------------------------\n",
      "Minimum Distance Classifier Prediction   : Triangle\n",
      "Nearest Neighbour Prediction             : Triangle\n",
      "K-Nearest Neighbours Prediction          : Triangle\n",
      "===========================================================================\n"
     ]
    },
    {
     "data": {
      "image/png": "[encoded data removed]",
      "text/plain": [
       "<Figure size 432x288 with 1 Axes>"
      ]
     },
     "metadata": {
      "needs_background": "light"
     },
     "output_type": "display_data"
    },
    {
     "name": "stdout",
     "output_type": "stream",
     "text": [
      "Actual class : Rectangle\n",
      "---------------------------------------\n",
      "Minimum Distance Classifier Prediction   : Circle\n",
      "Nearest Neighbour Prediction             : Rectangle\n",
      "K-Nearest Neighbours Prediction          : Rectangle\n",
      "===========================================================================\n"
     ]
    },
    {
     "data": {
      "image/png": "[encoded data removed]",
      "text/plain": [
       "<Figure size 432x288 with 1 Axes>"
      ]
     },
     "metadata": {
      "needs_background": "light"
     },
     "output_type": "display_data"
    },
    {
     "name": "stdout",
     "output_type": "stream",
     "text": [
      "Actual class : Rectangle\n",
      "---------------------------------------\n",
      "Minimum Distance Classifier Prediction   : Rectangle\n",
      "Nearest Neighbour Prediction             : Rectangle\n",
      "K-Nearest Neighbours Prediction          : Rectangle\n",
      "===========================================================================\n"
     ]
    },
    {
     "data": {
      "image/png": "[encoded data removed]",
      "text/plain": [
       "<Figure size 432x288 with 1 Axes>"
      ]
     },
     "metadata": {
      "needs_background": "light"
     },
     "output_type": "display_data"
    },
    {
     "name": "stdout",
     "output_type": "stream",
     "text": [
      "Actual class : Triangle\n",
      "---------------------------------------\n",
      "Minimum Distance Classifier Prediction   : Circle\n",
      "Nearest Neighbour Prediction             : Circle\n",
      "K-Nearest Neighbours Prediction          : Circle\n",
      "===========================================================================\n"
     ]
    },
    {
     "data": {
      "image/png": "[encoded data removed]",
      "text/plain": [
       "<Figure size 432x288 with 1 Axes>"
      ]
     },
     "metadata": {
      "needs_background": "light"
     },
     "output_type": "display_data"
    },
    {
     "name": "stdout",
     "output_type": "stream",
     "text": [
      "Actual class : Triangle\n",
      "---------------------------------------\n",
      "Minimum Distance Classifier Prediction   : Triangle\n",
      "Nearest Neighbour Prediction             : Triangle\n",
      "K-Nearest Neighbours Prediction          : Triangle\n",
      "===========================================================================\n"
     ]
    },
    {
     "data": {
      "image/png": "[encoded data removed]",
      "text/plain": [
       "<Figure size 432x288 with 1 Axes>"
      ]
     },
     "metadata": {
      "needs_background": "light"
     },
     "output_type": "display_data"
    },
    {
     "name": "stdout",
     "output_type": "stream",
     "text": [
      "Actual class : Rectangle\n",
      "---------------------------------------\n",
      "Minimum Distance Classifier Prediction   : Circle\n",
      "Nearest Neighbour Prediction             : Rectangle\n",
      "K-Nearest Neighbours Prediction          : Circle\n",
      "===========================================================================\n"
     ]
    },
    {
     "data": {
      "image/png": "[encoded data removed]",
      "text/plain": [
       "<Figure size 432x288 with 1 Axes>"
      ]
     },
     "metadata": {
      "needs_background": "light"
     },
     "output_type": "display_data"
    },
    {
     "name": "stdout",
     "output_type": "stream",
     "text": [
      "Actual class : Rectangle\n",
      "---------------------------------------\n",
      "Minimum Distance Classifier Prediction   : Rectangle\n",
      "Nearest Neighbour Prediction             : Rectangle\n",
      "K-Nearest Neighbours Prediction          : Rectangle\n",
      "===========================================================================\n"
     ]
    },
    {
     "data": {
      "image/png": "[encoded data removed]",
      "text/plain": [
       "<Figure size 432x288 with 1 Axes>"
      ]
     },
     "metadata": {
      "needs_background": "light"
     },
     "output_type": "display_data"
    },
    {
     "name": "stdout",
     "output_type": "stream",
     "text": [
      "Actual class : Circle\n",
      "---------------------------------------\n",
      "Minimum Distance Classifier Prediction   : Circle\n",
      "Nearest Neighbour Prediction             : Circle\n",
      "K-Nearest Neighbours Prediction          : Circle\n",
      "===========================================================================\n"
     ]
    },
    {
     "data": {
      "image/png": "[encoded data removed]",
      "text/plain": [
       "<Figure size 432x288 with 1 Axes>"
      ]
     },
     "metadata": {
      "needs_background": "light"
     },
     "output_type": "display_data"
    },
    {
     "name": "stdout",
     "output_type": "stream",
     "text": [
      "Actual class : Triangle\n",
      "---------------------------------------\n",
      "Minimum Distance Classifier Prediction   : Triangle\n",
      "Nearest Neighbour Prediction             : Triangle\n",
      "K-Nearest Neighbours Prediction          : Triangle\n",
      "===========================================================================\n"
     ]
    },
    {
     "data": {
      "image/png": "[encoded data removed]",
      "text/plain": [
       "<Figure size 432x288 with 1 Axes>"
      ]
     },
     "metadata": {
      "needs_background": "light"
     },
     "output_type": "display_data"
    },
    {
     "name": "stdout",
     "output_type": "stream",
     "text": [
      "Actual class : Circle\n",
      "---------------------------------------\n",
      "Minimum Distance Classifier Prediction   : Circle\n",
      "Nearest Neighbour Prediction             : Circle\n",
      "K-Nearest Neighbours Prediction          : Circle\n",
      "===========================================================================\n"
     ]
    }
   ],
   "source": [
    "### Run this after implementing the model functions\n",
    "\n",
    "### DO NOT CHANGE THESE VALUES ###\n",
    "test_images = sorted(glob.glob('test/*.png'))\n",
    "\n",
    "true_values = [2, 0, 0, 2, 2, 0, 0, 1, 2, 1]\n",
    "\n",
    "predict_md=[]\n",
    "predict_nn=[]\n",
    "predict_knn=[]\n",
    "\n",
    "\n",
    "for i in range(len(test_images)):\n",
    "    # Read each image in the test directory, preprocess it and extract its features.\n",
    "    img_original = cv2.imread(test_images[i])\n",
    "    img_preprocessed = preprocess(img_original)\n",
    "    test_point = extract_features(img_preprocessed)\n",
    "    \n",
    "    # Visualize each test figure. \n",
    "    fig = plt.figure()\n",
    "    plt.imshow(img_original)\n",
    "    plt.axis(\"off\")\n",
    "    plt.show()\n",
    "    \n",
    "    # Print the actual class of each test figure. \n",
    "    print(\"Actual class :\", shapes[true_values[i]])\n",
    "    print(\"---------------------------------------\")\n",
    "\n",
    "    # ------------------------------------------------------------------------------------------------------\n",
    "    # TODO 18: Calculate the prediction of each classifier (Minimum Distance, Nearest Neighbour, K-Nearest Neighbour)\n",
    "    min_dist_prediction = MinimumDistanceClassifier(test_point, training_features,y_train)\n",
    "    nn_prediction = NearestNeighbor(test_point, training_features,y_train)\n",
    "    k = 3 ## Question: what will happen if we increase the value of k?\n",
    "    knn_prediction = KNN(test_point, training_features,y_train,k)\n",
    "    \n",
    "    predict_md.append(min_dist_prediction)\n",
    "    predict_nn.append(nn_prediction)\n",
    "    predict_knn.append(knn_prediction)\n",
    "    \n",
    "    # ------------------------------------------------------------------------------------------------------\n",
    "\n",
    "    print(\"Minimum Distance Classifier Prediction   :\", shapes[min_dist_prediction])\n",
    "    print(\"Nearest Neighbour Prediction             :\", shapes[nn_prediction])\n",
    "    print(\"K-Nearest Neighbours Prediction          :\", shapes[knn_prediction])\n",
    "    print(\"===========================================================================\")\n",
    "    "
   ]
  },
  {
   "cell_type": "markdown",
   "metadata": {},
   "source": [
    "To compute the accuracy of the a given classifier:\n",
    "  1. **Count the correct predictions.**\n",
    "  2. **Count the total predictions.**\n",
    "  3. **Divide the correct predictions over the total predictions.**"
   ]
  },
  {
   "cell_type": "code",
   "execution_count": 178,
   "metadata": {},
   "outputs": [
    {
     "name": "stdout",
     "output_type": "stream",
     "text": [
      "[2, 1, 0, 1, 2, 1, 0, 1, 2, 1]\n",
      "7\n",
      "Minimum Distance Classifier Accuracy:  0.7 %\n",
      "Nearest Neighbour Classifier Accuracy:  0.9 %\n",
      "K-Nearest Neighbour Classifier Accuracy:  0.8 %\n"
     ]
    }
   ],
   "source": [
    "# ------------------------------------------------------------------------------------------------------\n",
    "# TODO 19 : Calculate the number of total predictions (the size of the test set) (~1 line)\n",
    "total_predictions = len(true_values)\n",
    "# ------------------------------------------------------------------------------------------------------\n",
    "\n",
    "\n",
    "# ------------------------------------------------------------------------------------------------------\n",
    "# TODO 20 : Calculate the number of correct predictions for MDC, NN and KNN. (~ 3 lines)\n",
    "# Hint: You may need to add very simple code in the previous cell\n",
    "# (e.g. store predictions in some array for each classifier)\n",
    "#ame=np.equal(true_values,predict_md)\n",
    "\n",
    "#count = np.count_nonzero( np.equal(true_values,predict_md)=True )\n",
    "correct_mdc = np.count_nonzero(np.equal(true_values,predict_md)==True)\n",
    "correct_nn = np.count_nonzero(np.equal(true_values,predict_nn)==True)\n",
    "correct_knn = np.count_nonzero(np.equal(true_values,predict_knn)==True)\n",
    "# ------------------------------------------------------------------------------------------------------\n",
    "\n",
    "# ------------------------------------------------------------------------------------------------------\n",
    "# TODO 21 : Calculate the accuracy for each of MDC, NN and KNN (~ 3 lines)\n",
    "accuracy_min_distance = correct_mdc/total_predictions\n",
    "accuracy_nn = correct_nn/total_predictions\n",
    "accuracy_knn = correct_knn/total_predictions\n",
    "# ------------------------------------------------------------------------------------------------------\n",
    "\n",
    "print(\"Minimum Distance Classifier Accuracy: \", accuracy_min_distance, \"%\")\n",
    "print(\"Nearest Neighbour Classifier Accuracy: \", accuracy_nn, \"%\")\n",
    "print(\"K-Nearest Neighbour Classifier Accuracy: \", accuracy_knn, \"%\")"
   ]
  },
  {
   "cell_type": "code",
   "execution_count": null,
   "metadata": {},
   "outputs": [],
   "source": []
  }
 ],
 "metadata": {
  "kernelspec": {
   "display_name": "Python 3",
   "language": "python",
   "name": "python3"
  },
  "language_info": {
   "codemirror_mode": {
    "name": "ipython",
    "version": 3
   },
   "file_extension": ".py",
   "mimetype": "text/x-python",
   "name": "python",
   "nbconvert_exporter": "python",
   "pygments_lexer": "ipython3",
   "version": "3.7.4"
  }
 },
 "nbformat": 4,
 "nbformat_minor": 4
}
